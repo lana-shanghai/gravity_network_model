{
 "cells": [
  {
   "cell_type": "code",
   "execution_count": 1,
   "metadata": {
    "collapsed": true
   },
   "outputs": [],
   "source": [
    "import sys\n",
    "import matplotlib.pyplot as plt\n",
    "import networkx as nx\n",
    "from datetime import datetime, timedelta\n",
    "from random import randrange\n",
    "import numpy as np\n",
    "import math\n",
    "from tqdm import tqdm\n",
    "import csv\n",
    "import random"
   ]
  },
  {
   "cell_type": "code",
   "execution_count": 2,
   "metadata": {
    "collapsed": true
   },
   "outputs": [],
   "source": [
    "# Задаём число аккаунтов в сети и общее число токенов\n",
    "\n",
    "n = 1000 \n",
    "G = nx.complete_graph(n)\n",
    "token_supply = 100000000\n",
    "token_distribution = {'exchange':0.6}\n"
   ]
  },
  {
   "cell_type": "code",
   "execution_count": null,
   "metadata": {
    "collapsed": true
   },
   "outputs": [],
   "source": []
  },
  {
   "cell_type": "code",
   "execution_count": 3,
   "metadata": {
    "collapsed": true
   },
   "outputs": [],
   "source": [
    "# Распределяем роли в сети и их количество\n",
    "\n",
    "ro = [0.001, 0.36, 0.34, 0.2, 0]\n",
    "\n",
    "roles = {'exchange':int(ro[0]*n), \n",
    "         'buyer':int(ro[1]*n), \n",
    "         'seller':int(ro[2]*n), \n",
    "         'hodler':int(ro[3]*n), \n",
    "         'speculator':int(n-(sum(ro[0:4]))*n)}\n",
    "\n",
    "for node in G.nodes()[0:roles['exchange']]:\n",
    "    G.node[node]['account_type'] = 'exchange'\n",
    "for node in G.nodes()[roles['exchange']:roles['exchange']+roles['buyer']]:\n",
    "    G.node[node]['account_type'] = 'buyer'\n",
    "for node in G.nodes()[roles['exchange']+roles['buyer']:\n",
    "                      roles['exchange']+roles['buyer']+roles['seller']]:\n",
    "    G.node[node]['account_type'] = 'seller'\n",
    "for node in G.nodes()[roles['exchange']+roles['buyer']+roles['seller']:\n",
    "                      roles['exchange']+roles['buyer']+roles['seller']+roles['hodler']]:\n",
    "    G.node[node]['account_type'] = 'hodler'\n",
    "for node in G.nodes()[roles['exchange']+roles['buyer']+roles['seller']+roles['hodler']:n]:\n",
    "    G.node[node]['account_type'] = 'speculator'\n"
   ]
  },
  {
   "cell_type": "code",
   "execution_count": 4,
   "metadata": {
    "collapsed": true
   },
   "outputs": [],
   "source": [
    "# Задаём макс. баланс токенов, доступный каждому из участников, его покупательную способность\n",
    "\n",
    "def set_max_balances(G, token_supply):\n",
    "    #normal = token_supply*(0.03*np.random.randn(1,n) + 0.1).tolist()[0]\n",
    "    beta = np.random.beta(2, 9, n).tolist()\n",
    "    dist = beta\n",
    "    for node in G.nodes():\n",
    "        if G.node[node]['account_type'] == 'exchange':\n",
    "            G.node[node]['max_balance'] = 0.8*token_supply\n",
    "        else:\n",
    "            if dist[node] > 0:\n",
    "                G.node[node]['max_balance'] = token_supply*dist[node]\n",
    "            else:\n",
    "                G.node[node]['max_balance'] = 1\n",
    "    return (token_supply*min(dist), token_supply*max(dist))\n",
    "\n",
    "# Задаём стартовую пустую историю транзакций между каждой парой пользователей\n",
    "\n",
    "def set_initial_history(graph):\n",
    "    for edge in G.edges():\n",
    "        if edge[0] < edge[1]:\n",
    "            G.edge[edge[0]][edge[1]]['tx_history'] = []\n",
    "        \n",
    "\n",
    "        \n",
    "# Транзакция на ребре подразумевает, что первый аккаунт - отправитель, второй - получатель\n",
    "\n",
    "def transaction(graph, edge, amount, timestamp):\n",
    "    \n",
    "    #Проверяем упорядоченность ребра\n",
    "    if edge[0] < edge[1]:\n",
    "    \n",
    "        #Проверяем, есть ли такая пара пользователей в сети\n",
    "        if edge in graph.edges():\n",
    "\n",
    "            '''\n",
    "            Проверяем, достаточно ли у отправителя средств\n",
    "            Проверяем, что получатель имеет достаточную покупательную способность\n",
    "            Записываем транзакцию в историю\n",
    "            Вычитаем пункт из числа отправлений, доступных аккаунту\n",
    "            '''\n",
    "\n",
    "            if (graph.node[edge[0]]['balance'] >= amount) and\\\n",
    "            (graph.node[edge[1]]['balance'] + amount <= graph.node[edge[1]]['max_balance']) and\\\n",
    "            (graph.node[edge[0]]['send'] >= 1):\n",
    "                graph.node[edge[0]]['balance'] -= amount\n",
    "                graph.node[edge[1]]['balance'] += amount\n",
    "                graph.node[edge[0]]['send'] -= 1\n",
    "                graph.node[edge[1]]['receive'] += 1\n",
    "                graph.edge[edge[0]][edge[1]]['tx_history'].append({'timestamp':timestamp,\n",
    "                                                      'from and to':edge,\n",
    "                                                      'amount':amount})\n",
    "\n",
    "            else:\n",
    "                pass\n",
    "        \n",
    "    #Сам себе в системе аккаунт не может отправлять деньги\n",
    "    elif edge[0] == edge[1]:\n",
    "        pass\n",
    "        \n",
    "    else:\n",
    "        edge_reverse = edge[::-1]\n",
    "            \n",
    "        #Проверяем, есть ли такая пара пользователей в сети\n",
    "        if edge_reverse in graph.edges():\n",
    "\n",
    "            '''\n",
    "            Проверяем, достаточно ли у отправителя средств\n",
    "            Проверяем, что получатель имеет достаточную покупательную способность\n",
    "            Записываем транзакцию в историю\n",
    "            '''\n",
    "\n",
    "            if (graph.node[edge_reverse[0]]['balance'] >= amount) and\\\n",
    "            (graph.node[edge_reverse[1]]['balance'] + amount <= graph.node[edge_reverse[1]]['max_balance']):\n",
    "                graph.node[edge_reverse[0]]['balance'] -= amount\n",
    "                graph.node[edge_reverse[1]]['balance'] += amount\n",
    "                graph.node[edge_reverse[0]]['send'] -= 1\n",
    "                graph.node[edge_reverse[1]]['receive'] += 1\n",
    "                graph.edge[edge_reverse[0]][edge_reverse[1]]['tx_history'].append({'timestamp':timestamp,\n",
    "                                                          'from and to':edge,\n",
    "                                                          'amount':amount})\n",
    "\n",
    "            else:\n",
    "                pass\n",
    "    \n",
    "    #print(graph.node[edge[0]])\n",
    "    #print(graph.node[edge[1]])\n",
    "    #print(graph.edge[edge[0]][edge[1]]['tx_history'])\n",
    "    if graph.edge[edge[0]][edge[1]]['tx_history'] != []:\n",
    "        \n",
    "        #return [graph.edge[edge[0]][edge[1]]['tx_history'][-1]['timestamp'],\n",
    "                #graph.edge[edge[0]][edge[1]]['tx_history'][-1]['from and to'],\n",
    "                #graph.edge[edge[0]][edge[1]]['tx_history'][-1]['amount'],\n",
    "                #graph.node[edge[0]]['account_type'],\n",
    "                #'to',\n",
    "                #graph.node[edge[1]]['account_type'],\n",
    "                #datetime.fromtimestamp(graph.edge[edge[0]][edge[1]]['tx_history'][-1]['timestamp'])\\\n",
    "                #.strftime('%Y-%m-%d %H:%M:%S')]\n",
    "        \n",
    "        return [datetime.fromtimestamp(graph.edge[edge[0]][edge[1]]['tx_history'][-1]['timestamp']).\\\n",
    "                strftime('%Y-%m-%dT%H:%M:%S'), edge[0], edge[1],\\\n",
    "                graph.edge[edge[0]][edge[1]]['tx_history'][-1]['amount'], 20]\n",
    "    else:\n",
    "        return []"
   ]
  },
  {
   "cell_type": "code",
   "execution_count": null,
   "metadata": {
    "collapsed": true
   },
   "outputs": [],
   "source": []
  },
  {
   "cell_type": "code",
   "execution_count": 5,
   "metadata": {
    "collapsed": true
   },
   "outputs": [],
   "source": [
    "'''\n",
    "Первый вариант - генерируем времена транзакций с произвольными промежутками времени, i - количество транзакций\n",
    "'''\n",
    "\n",
    "def random_date(start,i):\n",
    "    current = start\n",
    "    while i >= 0:\n",
    "        current = current + timedelta(minutes=randrange(10))\n",
    "        yield current\n",
    "        i-=1\n",
    "\n",
    "'''\n",
    "Второй вариант задания таймстампов - это уплотнение активности. Мы рассмотрим равномерную торговлю, экспоненциально\n",
    "растущую торговлю, а также уплотнение торговли где-то посередине, задавая различные веса временным промежуткам\n",
    "'''\n",
    "\n",
    "#Делим интервал на желаемое число частей\n",
    "def interval_divide(startDate, endDate, intervals):\n",
    "    min = int(datetime.strptime(startDate, '%Y-%m-%d %H:%M:%S').strftime(\"%s\"))\n",
    "    max = int(datetime.strptime(endDate, '%Y-%m-%d %H:%M:%S').strftime(\"%s\"))\n",
    "    interval_size = round((max - min) / intervals)\n",
    "    intervals_list = []\n",
    "    start = min\n",
    "    for start in range(min, max, interval_size):\n",
    "        end = start + interval_size\n",
    "        intervals_list.append([start, end])\n",
    "    print(intervals_list)\n",
    "    return intervals_list\n",
    "\n",
    "#Каждому интервалу с заданными вручную весами ставим в соответствие рандомную точку из этого интервала\n",
    "def generate_weighted_activity(intervals, weights):\n",
    "    weights = [w/sum(weights) for w in weights]\n",
    "    tx_weighted_ts = []\n",
    "    assert len(intervals) == len(weights)\n",
    "    weighted_intervals = list(random.choices(intervals, weights, k=10000))\n",
    "    for interval in weighted_intervals:\n",
    "        tx_weighted_ts.append(random.uniform(interval[0], interval[1]))\n",
    "    return tx_weighted_ts\n"
   ]
  },
  {
   "cell_type": "code",
   "execution_count": null,
   "metadata": {
    "collapsed": true
   },
   "outputs": [],
   "source": []
  },
  {
   "cell_type": "code",
   "execution_count": 6,
   "metadata": {
    "collapsed": true
   },
   "outputs": [],
   "source": [
    "#Проверяю число участников\n",
    "\n",
    "exchanges = 0\n",
    "buyers = 0\n",
    "sellers = 0\n",
    "hodlers = 0\n",
    "speculators = 0\n",
    "\n",
    "for node in G.nodes():\n",
    "    if G.node[node]['account_type'] == 'exchange':\n",
    "        exchanges += 1\n",
    "    if G.node[node]['account_type'] == 'buyer':\n",
    "        buyers += 1\n",
    "    if G.node[node]['account_type'] == 'seller':\n",
    "        sellers += 1\n",
    "    if G.node[node]['account_type'] == 'hodler':\n",
    "        hodlers += 1\n",
    "    if G.node[node]['account_type'] == 'speculator':\n",
    "        speculators += 1\n",
    "        \n",
    "'''\n",
    "Здесь задаются параметры % от общей активности сети, приходящейся на ту или иную группу аккаунтов, \n",
    "и максимальное кол-во отправлений, доступных разным типам аакаунтов\n",
    "'''\n",
    "\n",
    "def set_max_activity(graph, tx_number, send):\n",
    "    for node in graph.nodes():\n",
    "        if graph.node[node]['account_type'] == 'exchange':\n",
    "            graph.node[node]['send'] = send['exchange']*tx_number\n",
    "            graph.node[node]['receive'] = 0\n",
    "            \n",
    "        if graph.node[node]['account_type'] == 'buyer':\n",
    "            graph.node[node]['send'] = send['buyer']*tx_number\n",
    "            graph.node[node]['receive'] = 0\n",
    "            \n",
    "        if graph.node[node]['account_type'] == 'seller':\n",
    "            graph.node[node]['send'] = send['seller']*tx_number\n",
    "            graph.node[node]['receive'] = 0\n",
    "            \n",
    "        if graph.node[node]['account_type'] == 'hodler':\n",
    "            graph.node[node]['send'] = send['hodler']*tx_number\n",
    "            graph.node[node]['receive'] = 0\n",
    "            \n",
    "        if graph.node[node]['account_type'] == 'speculator':\n",
    "            graph.node[node]['send'] = send['speculator']*tx_number\n",
    "            graph.node[node]['receive'] = 0\n",
    "\n",
    "\n",
    "\n",
    "'''\n",
    "Задаём стартовые балансы в сети, token_supply (type int)  - общее число токенов, token_distribution (type dictionary) - \n",
    "изначальное распределение токенов между биржей и пользователями, например 80% у биржи\n",
    "'''\n",
    "\n",
    "def set_start_balances(graph, token_supply, token_distribution):\n",
    "    \n",
    "    hodler_count = 0\n",
    "    buyer_count = 0\n",
    "    seller_count = 0\n",
    "    speculator_count = 0\n",
    "    beta = np.random.beta(2, 9, n).tolist()\n",
    "    \n",
    "    for node in G.nodes():\n",
    "        \n",
    "        if G.node[node]['account_type'] == 'exchange':\n",
    "            \n",
    "            # У биржи 60% средств изначально\n",
    "            G.node[node]['balance']  = token_distribution['exchange']*token_supply\n",
    "        \n",
    "        elif G.node[node]['account_type'] != 'exchange' and (1-token_distribution['exchange'])\\\n",
    "            *token_supply*beta[node]<=G.node[node]['max_balance']:\n",
    "            \n",
    "            G.node[node]['balance'] = (1-token_distribution['exchange'])*\\\n",
    "            token_supply*beta[node]\n",
    "        \n",
    "        else:\n",
    "            \n",
    "            G.node[node]['balance'] = G.node[node]['max_balance']\n",
    "            #print(node, 'max_balance')\n",
    "    \n",
    "    #Нормируем число токенов на общую сумму\n",
    "    token_sum = 0\n",
    "    exchange_token_sum = 0\n",
    "    for node in G.nodes():\n",
    "        if G.node[node]['account_type'] != 'exchange':\n",
    "            token_sum += G.node[node]['balance']\n",
    "        else:\n",
    "            exchange_token_sum += G.node[node]['balance']\n",
    "    \n",
    "    for node in G.nodes():\n",
    "        if G.node[node]['account_type'] != 'exchange':\n",
    "            G.node[node]['balance'] = G.node[node]['balance']/(token_sum/(token_supply-exchange_token_sum))\n"
   ]
  },
  {
   "cell_type": "code",
   "execution_count": 7,
   "metadata": {},
   "outputs": [
    {
     "name": "stdout",
     "output_type": "stream",
     "text": [
      "[[1523955600, 1523961648], [1523961648, 1523967696], [1523967696, 1523973744], [1523973744, 1523979792], [1523979792, 1523985840], [1523985840, 1523991888], [1523991888, 1523997936], [1523997936, 1524003984], [1524003984, 1524010032], [1524010032, 1524016080], [1524016080, 1524022128], [1524022128, 1524028176], [1524028176, 1524034224], [1524034224, 1524040272], [1524040272, 1524046320], [1524046320, 1524052368], [1524052368, 1524058416], [1524058416, 1524064464], [1524064464, 1524070512], [1524070512, 1524076560], [1524076560, 1524082608], [1524082608, 1524088656], [1524088656, 1524094704], [1524094704, 1524100752], [1524100752, 1524106800], [1524106800, 1524112848], [1524112848, 1524118896], [1524118896, 1524124944], [1524124944, 1524130992], [1524130992, 1524137040], [1524137040, 1524143088], [1524143088, 1524149136], [1524149136, 1524155184], [1524155184, 1524161232], [1524161232, 1524167280], [1524167280, 1524173328], [1524173328, 1524179376], [1524179376, 1524185424], [1524185424, 1524191472], [1524191472, 1524197520], [1524197520, 1524203568], [1524203568, 1524209616], [1524209616, 1524215664], [1524215664, 1524221712], [1524221712, 1524227760], [1524227760, 1524233808], [1524233808, 1524239856], [1524239856, 1524245904], [1524245904, 1524251952], [1524251952, 1524258000], [1524258000, 1524264048], [1524264048, 1524270096], [1524270096, 1524276144], [1524276144, 1524282192], [1524282192, 1524288240], [1524288240, 1524294288], [1524294288, 1524300336], [1524300336, 1524306384], [1524306384, 1524312432], [1524312432, 1524318480], [1524318480, 1524324528], [1524324528, 1524330576], [1524330576, 1524336624], [1524336624, 1524342672], [1524342672, 1524348720], [1524348720, 1524354768], [1524354768, 1524360816], [1524360816, 1524366864], [1524366864, 1524372912], [1524372912, 1524378960], [1524378960, 1524385008], [1524385008, 1524391056], [1524391056, 1524397104], [1524397104, 1524403152], [1524403152, 1524409200], [1524409200, 1524415248], [1524415248, 1524421296], [1524421296, 1524427344], [1524427344, 1524433392], [1524433392, 1524439440], [1524439440, 1524445488], [1524445488, 1524451536], [1524451536, 1524457584], [1524457584, 1524463632], [1524463632, 1524469680], [1524469680, 1524475728], [1524475728, 1524481776], [1524481776, 1524487824], [1524487824, 1524493872], [1524493872, 1524499920], [1524499920, 1524505968], [1524505968, 1524512016], [1524512016, 1524518064], [1524518064, 1524524112], [1524524112, 1524530160], [1524530160, 1524536208], [1524536208, 1524542256], [1524542256, 1524548304], [1524548304, 1524554352], [1524554352, 1524560400]]\n"
     ]
    },
    {
     "data": {
      "image/png": "[encoded data removed]",
      "text/plain": [
       "<matplotlib.figure.Figure at 0x1180600b8>"
      ]
     },
     "metadata": {},
     "output_type": "display_data"
    }
   ],
   "source": [
    "number_of_tx = 10000\n",
    "\n",
    "#Задаём экспоненциальный рост торговли в сети со временем\n",
    "start = '2018-04-17 12:00:00'\n",
    "end = '2018-04-24 12:00:00'\n",
    "intervals = interval_divide(start, end, 100)\n",
    "weights = [math.sqrt(0.5*t) for t in range(len(intervals))]\n",
    "\n",
    "uneven_tx_ts = sorted(generate_weighted_activity(intervals, weights))\n",
    "\n",
    "#Проверяем гистограмму числа транзакций в сети по временным интервалам\n",
    "plt.hist(uneven_tx_ts)\n",
    "plt.show()"
   ]
  },
  {
   "cell_type": "code",
   "execution_count": 8,
   "metadata": {
    "collapsed": true
   },
   "outputs": [],
   "source": [
    "#Просто произвольные временные точки\n",
    "startDate = datetime(2018, 4, 20, 12, 0, 0)\n",
    "tx_timestamps = []\n",
    "\n",
    "for x in list(random_date(startDate,number_of_tx)):\n",
    "    tx_timestamps.append(int(x.timestamp()))\n",
    "    #print (x.strftime(\"%Y-%m-%d %H:%M:%s\"))"
   ]
  },
  {
   "cell_type": "code",
   "execution_count": 9,
   "metadata": {
    "collapsed": true
   },
   "outputs": [],
   "source": [
    "set_max_balances(G, token_supply)\n",
    "set_start_balances(G, token_supply, token_distribution)\n",
    "set_initial_history(G)\n",
    "\n",
    "#Сумма частоток для отправлений равна 1\n",
    "send = {'exchange':0.4, 'buyer':0.13, 'seller':0.16, 'hodler':0.05, 'speculator':0.26}\n",
    "set_max_activity(G, 10000, send)\n"
   ]
  },
  {
   "cell_type": "code",
   "execution_count": null,
   "metadata": {
    "collapsed": true
   },
   "outputs": [],
   "source": []
  },
  {
   "cell_type": "code",
   "execution_count": 10,
   "metadata": {
    "collapsed": true
   },
   "outputs": [],
   "source": [
    "#Сумма равна 1, активность биржевого кошелька порядка 40% \n",
    "receive = {'exchange':0.4, 'buyer':0.16, 'seller':0.13, 'hodler':0.05, 'speculator':0.26}\n",
    "\n",
    "node_receiver_weights = []\n",
    "node_sender_weights = []\n",
    "\n",
    "for node in G.nodes():\n",
    "    if G.node[node]['account_type'] == 'exchange':\n",
    "        node_sender_weights.append(send['exchange']/exchanges)\n",
    "        node_receiver_weights.append(receive['exchange']/exchanges)\n",
    "    if G.node[node]['account_type'] == 'buyer':\n",
    "        node_sender_weights.append(send['buyer']/buyers)\n",
    "        node_receiver_weights.append(receive['buyer']/buyers)\n",
    "    if G.node[node]['account_type'] == 'seller':\n",
    "        node_sender_weights.append(send['seller']/sellers)\n",
    "        node_receiver_weights.append(receive['seller']/sellers)\n",
    "    if G.node[node]['account_type'] == 'hodler':\n",
    "        node_sender_weights.append(send['hodler']/hodlers)\n",
    "        node_receiver_weights.append(receive['hodler']/hodlers)\n",
    "    if G.node[node]['account_type'] == 'speculator':\n",
    "        node_sender_weights.append(send['speculator']/speculators)\n",
    "        node_receiver_weights.append(receive['speculator']/speculators)\n",
    "        \n",
    "#Нормируем веса так, чтобы их сумма равнялась [приблизительно] единице\n",
    "norm_sender_weights = [float(i)/sum(node_sender_weights) for i in node_sender_weights]\n",
    "norm_receiver_weights = [float(i)/sum(node_receiver_weights) for i in node_receiver_weights]\n",
    "\n",
    "\n",
    "#Выбираем k отправителей и получателей с заданными весами, которые определяют их частоту появления в транзакции\n",
    "send_list = list(random.choices(G.nodes(), norm_sender_weights, k=10000))\n",
    "receive_list = list(random.choices(G.nodes(), norm_receiver_weights, k=10000))\n",
    "\n",
    "#Формируем пары отправитель и получатель, удаляем пары, где они совпали\n",
    "network_edges = [t for t in list(zip(send_list, receive_list)) if t[0] != t[1]]\n"
   ]
  },
  {
   "cell_type": "code",
   "execution_count": 11,
   "metadata": {
    "collapsed": true
   },
   "outputs": [],
   "source": [
    "#Моделируем суммы переводов пользователей TBD\n"
   ]
  },
  {
   "cell_type": "code",
   "execution_count": 12,
   "metadata": {},
   "outputs": [
    {
     "name": "stderr",
     "output_type": "stream",
     "text": [
      "  2%|▏         | 241/10000 [00:49<33:22,  4.87it/s]"
     ]
    },
    {
     "ename": "KeyboardInterrupt",
     "evalue": "",
     "output_type": "error",
     "traceback": [
      "\u001b[0;31m---------------------------------------------------------------------------\u001b[0m",
      "\u001b[0;31mKeyboardInterrupt\u001b[0m                         Traceback (most recent call last)",
      "\u001b[0;32m<ipython-input-12-4375b786c2d6>\u001b[0m in \u001b[0;36m<module>\u001b[0;34m()\u001b[0m\n\u001b[1;32m      7\u001b[0m     \u001b[0;32melse\u001b[0m\u001b[0;34m:\u001b[0m\u001b[0;34m\u001b[0m\u001b[0m\n\u001b[1;32m      8\u001b[0m         \u001b[0mamount\u001b[0m \u001b[0;34m=\u001b[0m \u001b[0mrandom\u001b[0m\u001b[0;34m.\u001b[0m\u001b[0muniform\u001b[0m\u001b[0;34m(\u001b[0m\u001b[0;36m100\u001b[0m\u001b[0;34m,\u001b[0m \u001b[0;36m0.3\u001b[0m\u001b[0;34m*\u001b[0m\u001b[0mG\u001b[0m\u001b[0;34m.\u001b[0m\u001b[0mnode\u001b[0m\u001b[0;34m[\u001b[0m\u001b[0medge\u001b[0m\u001b[0;34m[\u001b[0m\u001b[0;36m1\u001b[0m\u001b[0;34m]\u001b[0m\u001b[0;34m]\u001b[0m\u001b[0;34m[\u001b[0m\u001b[0;34m'balance'\u001b[0m\u001b[0;34m]\u001b[0m\u001b[0;34m)\u001b[0m\u001b[0;34m\u001b[0m\u001b[0m\n\u001b[0;32m----> 9\u001b[0;31m     \u001b[0mtx\u001b[0m \u001b[0;34m=\u001b[0m \u001b[0mtransaction\u001b[0m\u001b[0;34m(\u001b[0m\u001b[0mG\u001b[0m\u001b[0;34m,\u001b[0m \u001b[0medge\u001b[0m\u001b[0;34m,\u001b[0m \u001b[0mamount\u001b[0m\u001b[0;34m,\u001b[0m \u001b[0mt\u001b[0m\u001b[0;34m)\u001b[0m\u001b[0;34m\u001b[0m\u001b[0m\n\u001b[0m\u001b[1;32m     10\u001b[0m     \u001b[0;32mwith\u001b[0m \u001b[0mopen\u001b[0m\u001b[0;34m(\u001b[0m\u001b[0;34m'transaction_history2.csv'\u001b[0m\u001b[0;34m,\u001b[0m \u001b[0;34m'a'\u001b[0m\u001b[0;34m,\u001b[0m \u001b[0mnewline\u001b[0m\u001b[0;34m=\u001b[0m\u001b[0;34m''\u001b[0m\u001b[0;34m)\u001b[0m \u001b[0;32mas\u001b[0m \u001b[0mcsvfile\u001b[0m\u001b[0;34m:\u001b[0m\u001b[0;34m\u001b[0m\u001b[0m\n\u001b[1;32m     11\u001b[0m         \u001b[0mwriter\u001b[0m \u001b[0;34m=\u001b[0m \u001b[0mcsv\u001b[0m\u001b[0;34m.\u001b[0m\u001b[0mwriter\u001b[0m\u001b[0;34m(\u001b[0m\u001b[0mcsvfile\u001b[0m\u001b[0;34m,\u001b[0m \u001b[0mdelimiter\u001b[0m\u001b[0;34m=\u001b[0m\u001b[0;34m' '\u001b[0m\u001b[0;34m,\u001b[0m \u001b[0mquotechar\u001b[0m\u001b[0;34m=\u001b[0m\u001b[0;34m'|'\u001b[0m\u001b[0;34m)\u001b[0m\u001b[0;34m\u001b[0m\u001b[0m\n",
      "\u001b[0;32m<ipython-input-4-1a379613060c>\u001b[0m in \u001b[0;36mtransaction\u001b[0;34m(graph, edge, amount, timestamp)\u001b[0m\n\u001b[1;32m     61\u001b[0m \u001b[0;34m\u001b[0m\u001b[0m\n\u001b[1;32m     62\u001b[0m         \u001b[0;31m#Проверяем, есть ли такая пара пользователей в сети\u001b[0m\u001b[0;34m\u001b[0m\u001b[0;34m\u001b[0m\u001b[0m\n\u001b[0;32m---> 63\u001b[0;31m         \u001b[0;32mif\u001b[0m \u001b[0medge_reverse\u001b[0m \u001b[0;32min\u001b[0m \u001b[0mgraph\u001b[0m\u001b[0;34m.\u001b[0m\u001b[0medges\u001b[0m\u001b[0;34m(\u001b[0m\u001b[0;34m)\u001b[0m\u001b[0;34m:\u001b[0m\u001b[0;34m\u001b[0m\u001b[0m\n\u001b[0m\u001b[1;32m     64\u001b[0m \u001b[0;34m\u001b[0m\u001b[0m\n\u001b[1;32m     65\u001b[0m             '''\n",
      "\u001b[0;32m/Users/mac/anaconda/lib/python3.6/site-packages/networkx/classes/graph.py\u001b[0m in \u001b[0;36medges\u001b[0;34m(self, nbunch, data, default)\u001b[0m\n\u001b[1;32m   1135\u001b[0m \u001b[0;34m\u001b[0m\u001b[0m\n\u001b[1;32m   1136\u001b[0m         \"\"\"\n\u001b[0;32m-> 1137\u001b[0;31m         \u001b[0;32mreturn\u001b[0m \u001b[0mlist\u001b[0m\u001b[0;34m(\u001b[0m\u001b[0mself\u001b[0m\u001b[0;34m.\u001b[0m\u001b[0medges_iter\u001b[0m\u001b[0;34m(\u001b[0m\u001b[0mnbunch\u001b[0m\u001b[0;34m,\u001b[0m \u001b[0mdata\u001b[0m\u001b[0;34m,\u001b[0m \u001b[0mdefault\u001b[0m\u001b[0;34m)\u001b[0m\u001b[0;34m)\u001b[0m\u001b[0;34m\u001b[0m\u001b[0m\n\u001b[0m\u001b[1;32m   1138\u001b[0m \u001b[0;34m\u001b[0m\u001b[0m\n\u001b[1;32m   1139\u001b[0m     \u001b[0;32mdef\u001b[0m \u001b[0medges_iter\u001b[0m\u001b[0;34m(\u001b[0m\u001b[0mself\u001b[0m\u001b[0;34m,\u001b[0m \u001b[0mnbunch\u001b[0m\u001b[0;34m=\u001b[0m\u001b[0;32mNone\u001b[0m\u001b[0;34m,\u001b[0m \u001b[0mdata\u001b[0m\u001b[0;34m=\u001b[0m\u001b[0;32mFalse\u001b[0m\u001b[0;34m,\u001b[0m \u001b[0mdefault\u001b[0m\u001b[0;34m=\u001b[0m\u001b[0;32mNone\u001b[0m\u001b[0;34m)\u001b[0m\u001b[0;34m:\u001b[0m\u001b[0;34m\u001b[0m\u001b[0m\n",
      "\u001b[0;32m/Users/mac/anaconda/lib/python3.6/site-packages/networkx/classes/graph.py\u001b[0m in \u001b[0;36medges_iter\u001b[0;34m(self, nbunch, data, default)\u001b[0m\n\u001b[1;32m   1208\u001b[0m             \u001b[0;32mfor\u001b[0m \u001b[0mn\u001b[0m\u001b[0;34m,\u001b[0m \u001b[0mnbrs\u001b[0m \u001b[0;32min\u001b[0m \u001b[0mnodes_nbrs\u001b[0m\u001b[0;34m:\u001b[0m\u001b[0;34m\u001b[0m\u001b[0m\n\u001b[1;32m   1209\u001b[0m                 \u001b[0;32mfor\u001b[0m \u001b[0mnbr\u001b[0m \u001b[0;32min\u001b[0m \u001b[0mnbrs\u001b[0m\u001b[0;34m:\u001b[0m\u001b[0;34m\u001b[0m\u001b[0m\n\u001b[0;32m-> 1210\u001b[0;31m                     \u001b[0;32mif\u001b[0m \u001b[0mnbr\u001b[0m \u001b[0;32mnot\u001b[0m \u001b[0;32min\u001b[0m \u001b[0mseen\u001b[0m\u001b[0;34m:\u001b[0m\u001b[0;34m\u001b[0m\u001b[0m\n\u001b[0m\u001b[1;32m   1211\u001b[0m                         \u001b[0;32myield\u001b[0m \u001b[0;34m(\u001b[0m\u001b[0mn\u001b[0m\u001b[0;34m,\u001b[0m \u001b[0mnbr\u001b[0m\u001b[0;34m)\u001b[0m\u001b[0;34m\u001b[0m\u001b[0m\n\u001b[1;32m   1212\u001b[0m                 \u001b[0mseen\u001b[0m\u001b[0;34m[\u001b[0m\u001b[0mn\u001b[0m\u001b[0;34m]\u001b[0m \u001b[0;34m=\u001b[0m \u001b[0;36m1\u001b[0m\u001b[0;34m\u001b[0m\u001b[0m\n",
      "\u001b[0;31mKeyboardInterrupt\u001b[0m: "
     ]
    }
   ],
   "source": [
    "#Запускаем торговлю между пользователями\n",
    "\n",
    "for t in tqdm(uneven_tx_ts):\n",
    "    edge = network_edges[uneven_tx_ts.index(t)]\n",
    "    if edge[0] < edge[1]:\n",
    "        amount = random.uniform(100, 0.3*G.node[edge[0]]['balance'])\n",
    "    else:\n",
    "        amount = random.uniform(100, 0.3*G.node[edge[1]]['balance'])\n",
    "    tx = transaction(G, edge, amount, t)\n",
    "    with open('transaction_history2.csv', 'a', newline='') as csvfile:\n",
    "        writer = csv.writer(csvfile, delimiter=' ', quotechar='|')\n",
    "        writer.writerow(tx)"
   ]
  },
  {
   "cell_type": "code",
   "execution_count": null,
   "metadata": {
    "collapsed": true
   },
   "outputs": [],
   "source": [
    "c = 0\n",
    "for edge in G.edges():\n",
    "    if G.edge[edge[0]][edge[1]]['tx_history'] != [] and len(G.edge[edge[0]][edge[1]]['tx_history']) > 1:\n",
    "        print(len(G.edge[edge[0]][edge[1]]['tx_history']))\n",
    "        print(G.edge[edge[0]][edge[1]]['tx_history'])\n",
    "        c += 1\n",
    "print(c)"
   ]
  },
  {
   "cell_type": "code",
   "execution_count": null,
   "metadata": {
    "collapsed": true
   },
   "outputs": [],
   "source": []
  }
 ],
 "metadata": {
  "kernelspec": {
   "display_name": "Python 3",
   "language": "python",
   "name": "python3"
  },
  "language_info": {
   "codemirror_mode": {
    "name": "ipython",
    "version": 3
   },
   "file_extension": ".py",
   "mimetype": "text/x-python",
   "name": "python",
   "nbconvert_exporter": "python",
   "pygments_lexer": "ipython3",
   "version": "3.6.1"
  }
 },
 "nbformat": 4,
 "nbformat_minor": 2
}
